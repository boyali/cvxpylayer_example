{
 "cells": [
  {
   "cell_type": "code",
   "execution_count": 16,
   "metadata": {},
   "outputs": [],
   "source": [
    "import cvxpy as cp\n",
    "import numpy as np\n",
    "import torch\n",
    "from scipy.linalg import solve_discrete_are\n",
    "from scipy.linalg import sqrtm\n",
    "\n",
    "from cvxpylayers.torch import CvxpyLayer"
   ]
  },
  {
   "cell_type": "markdown",
   "metadata": {},
   "source": [
    "$$\n",
    "\\begin{array}{ll}{\\operatorname{minimize}} & {\\|F x-g\\|_{2}+\\lambda\\|x\\|_{2}} \\\\ {\\text { subject to }} & {x \\geq 0}\\end{array}\n",
    "$$"
   ]
  },
  {
   "cell_type": "code",
   "execution_count": 17,
   "metadata": {},
   "outputs": [],
   "source": [
    "m, n = 20, 10"
   ]
  },
  {
   "cell_type": "code",
   "execution_count": 18,
   "metadata": {},
   "outputs": [],
   "source": [
    "x = cp.Variable((n, 1))\n",
    "F = cp.Parameter((m, n))\n",
    "g = cp.Parameter((m, 1))\n",
    "\n",
    "lambd = cp.Parameter((1, 1), nonneg=True)\n",
    "objective_fn = cp.norm(F@x - g) + lambd * cp.norm(x)\n",
    "\n",
    "objective = cp.Minimize(objective_fn)\n",
    "constraints = [x >=0]\n",
    "\n",
    "problem = cp.Problem(objective, constraints)\n",
    "\n",
    "assert problem.is_dpp()\n"
   ]
  },
  {
   "cell_type": "code",
   "execution_count": 19,
   "metadata": {},
   "outputs": [
    {
     "data": {
      "text/plain": [
       "'1.1.0a1'"
      ]
     },
     "execution_count": 19,
     "metadata": {},
     "output_type": "execute_result"
    }
   ],
   "source": [
    "cp.__version__"
   ]
  },
  {
   "cell_type": "code",
   "execution_count": 20,
   "metadata": {},
   "outputs": [],
   "source": [
    "F_t = torch.randn(m, n, requires_grad=True)\n",
    "g_t = torch.randn(m, 1, requires_grad = True)\n",
    "lambda_t = torch.randn(1, 1, requires_grad=True)"
   ]
  },
  {
   "cell_type": "code",
   "execution_count": 21,
   "metadata": {},
   "outputs": [],
   "source": [
    "layer = CvxpyLayer(problem, parameters = [F, g, lambd], variables=[x])"
   ]
  },
  {
   "cell_type": "code",
   "execution_count": 22,
   "metadata": {},
   "outputs": [],
   "source": [
    "x_star, = layer(F_t, g_t, lambda_t)"
   ]
  },
  {
   "cell_type": "code",
   "execution_count": 23,
   "metadata": {},
   "outputs": [
    {
     "name": "stdout",
     "output_type": "stream",
     "text": [
      "None\n"
     ]
    }
   ],
   "source": [
    "print(x_star.sum().backward())"
   ]
  },
  {
   "cell_type": "markdown",
   "metadata": {},
   "source": [
    "Convex approximate dynamic programming\n",
    "We consider a stochastic control problem of the form \\begin{equation} \\begin{array}{ll} \\mbox{minimize} & \\underset{T \\to \\infty}\\lim {\\mathbb E} \\left[\\frac{1}{T} \\sum_{t=0}^{T-1} |{x_t}|_2^2 + |{\\phi(x_t)}|2^2\\right]\\[.2cm] \\mbox{subject to} & x{t+1} = Ax_t + B\\phi(x_t) + \\omega_t, \\end{array} \\label{eq:adp} \\end{equation} where $x_t\\in\\mathbf{R}^n$ is the state, $\\phi:\\mathbf{R}^n \\to \\mathcal U \\subseteq \\mathbf{R}^m$ is the policy, $\\mathcal U$ is a convex set representing the allowed set of controls, and $\\omega_t\\in\\Omega$ is a (random, i.i.d.) disturbance. Here the variable is the policy $\\phi$, and the expectation is taken over disturbances and the initial state $x_0$. If $\\mathcal U$ is not an affine set, then this problem is in general very difficult to solve.\n",
    "\n",
    "A common heuristic for solving stochastic control problems is approximate dynamic programming (ADP), which parametrizes $\\phi$ and replaces the minimization over functions $\\phi$ with a minimization over parameters. In this example, we take $\\mathcal U$ to be the unit ball and we represent $\\phi$ as a particular quadratic control-Lyapunov policy. Evaluating $\\phi$ corresponds to solving the SOCP$$\n",
    "\\begin{array}{ll}\n",
    "\\mbox{minimize} &amp; u^T P u + x_t^T Q u + q^T u \\\n",
    "\\mbox{subject to} &amp; |{u}|_2 \\leq 1,\n",
    "\\end{array}\n",
    "\\label{eq:policy}\n",
    "$$with variable $u$ and parameters $P$, $Q$, $q$, and $x_t$. We can run gradient descent (SGD) on $P$, $Q$, and $q$ to approximately solve the original problem, which requires requires differentiating through the quadratic policy. Note that if $u$ were unconstrained, the original problem could be solved exactly, via linear quadratic regulator (LQR) theory."
   ]
  },
  {
   "cell_type": "code",
   "execution_count": 26,
   "metadata": {},
   "outputs": [],
   "source": [
    "# Generate data\n",
    "torch.manual_seed(1)\n",
    "np.random.seed(1)\n",
    "\n",
    "n = 2\n",
    "m = 3\n",
    "\n",
    "A = np.eye(n) + 1e-2 * np.random.randn(n, n)\n",
    "B = 1e-2 / 3 * np.random.randn(n, m)\n",
    "Q = np.eye(n)\n",
    "R = np.eye(m)\n",
    "\n",
    "# Compute LQR control policy\n",
    "P_lqr = solve_discrete_are(A, B, Q, R)\n",
    "P = R + B.T@P_lqr@B\n",
    "P_sqrt_lqr = sqrtm(P)\n",
    "\n",
    "# Construct CVXPY problem and layer\n",
    "x_cvxpy = cp.Parameter((n, 1))\n",
    "P_sqrt_cvxpy = cp.Parameter((m, m))\n",
    "P_21_cvxpy = cp.Parameter((n, m))\n",
    "q_cvxpy = cp.Parameter((m, 1))\n",
    "\n",
    "u_cvxpy = cp.Variable((m, 1))\n",
    "y_cvxpy = cp.Variable((n, 1))\n",
    "\n",
    "objective = .5 * cp.sum_squares(P_sqrt_cvxpy @ u_cvxpy) + x_cvxpy.T @ y_cvxpy + q_cvxpy.T @ u_cvxpy\n",
    "problem = cp.Problem(cp.Minimize(objective), [cp.norm(u_cvxpy) <= 1, y_cvxpy == P_21_cvxpy @ u_cvxpy])\n",
    "assert problem.is_dpp()\n",
    "policy = CvxpyLayer(\n",
    "    problem, [x_cvxpy, P_sqrt_cvxpy, P_21_cvxpy, q_cvxpy], [u_cvxpy])"
   ]
  },
  {
   "cell_type": "code",
   "execution_count": 29,
   "metadata": {},
   "outputs": [
    {
     "name": "stdout",
     "output_type": "stream",
     "text": [
      "(iter 0) loss: 1.51906 \n",
      "(iter 1) loss: 1.51596 \n",
      "(iter 2) loss: 1.51004 \n",
      "(iter 3) loss: 1.50076 \n",
      "(iter 4) loss: 1.48964 \n",
      "(iter 5) loss: 1.47732 \n",
      "(iter 6) loss: 1.46409 \n",
      "(iter 7) loss: 1.44985 \n",
      "(iter 8) loss: 1.43349 \n",
      "(iter 9) loss: 1.41393 \n",
      "(iter 10) loss: 1.39383 \n",
      "(iter 11) loss: 1.37273 \n",
      "(iter 12) loss: 1.35031 \n",
      "(iter 13) loss: 1.32644 \n",
      "(iter 14) loss: 1.2979 \n",
      "(iter 15) loss: 1.26749 \n",
      "(iter 16) loss: 1.23994 \n",
      "(iter 17) loss: 1.21162 \n",
      "(iter 18) loss: 1.18454 \n",
      "(iter 19) loss: 1.15832 \n",
      "(iter 20) loss: 1.13336 \n",
      "(iter 21) loss: 1.10918 \n",
      "(iter 22) loss: 1.08801 \n",
      "(iter 23) loss: 1.07002 \n",
      "(iter 24) loss: 1.05461 \n",
      "(iter 25) loss: 1.04056 \n",
      "(iter 26) loss: 1.02755 \n",
      "(iter 27) loss: 1.0159 \n",
      "(iter 28) loss: 1.00493 \n",
      "(iter 29) loss: 0.995569 \n",
      "(iter 30) loss: 0.987571 \n",
      "(iter 31) loss: 0.980465 \n",
      "(iter 32) loss: 0.974158 \n",
      "(iter 33) loss: 0.968241 \n",
      "(iter 34) loss: 0.962846 \n",
      "(iter 35) loss: 0.958006 \n",
      "(iter 36) loss: 0.953747 \n",
      "(iter 37) loss: 0.949987 \n",
      "(iter 38) loss: 0.946659 \n",
      "(iter 39) loss: 0.943703 \n",
      "(iter 40) loss: 0.94107 \n",
      "(iter 41) loss: 0.938717 \n",
      "(iter 42) loss: 0.936607 \n",
      "(iter 43) loss: 0.934709 \n",
      "(iter 44) loss: 0.932997 \n",
      "(iter 45) loss: 0.931448 \n",
      "(iter 46) loss: 0.930042 \n",
      "(iter 47) loss: 0.928762 \n",
      "(iter 48) loss: 0.927593 \n",
      "(iter 49) loss: 0.926524 \n",
      "(iter 50) loss: 0.925542 \n",
      "(iter 51) loss: 0.924639 \n",
      "(iter 52) loss: 0.923806 \n",
      "(iter 53) loss: 0.923036 \n",
      "(iter 54) loss: 0.922322 \n",
      "(iter 55) loss: 0.921659 \n",
      "(iter 56) loss: 0.921042 \n",
      "(iter 57) loss: 0.920465 \n",
      "(iter 58) loss: 0.919926 \n",
      "(iter 59) loss: 0.919421 \n",
      "(iter 60) loss: 0.918946 \n",
      "(iter 61) loss: 0.918499 \n",
      "(iter 62) loss: 0.918078 \n",
      "(iter 63) loss: 0.917679 \n",
      "(iter 64) loss: 0.917302 \n",
      "(iter 65) loss: 0.916944 \n",
      "(iter 66) loss: 0.916604 \n",
      "(iter 67) loss: 0.916281 \n",
      "(iter 68) loss: 0.915972 \n",
      "(iter 69) loss: 0.915678 \n",
      "(iter 70) loss: 0.915396 \n",
      "(iter 71) loss: 0.915126 \n",
      "(iter 72) loss: 0.914867 \n",
      "(iter 73) loss: 0.914618 \n",
      "(iter 74) loss: 0.91438 \n",
      "(iter 75) loss: 0.914149 \n",
      "(iter 76) loss: 0.913928 \n",
      "(iter 77) loss: 0.913714 \n",
      "(iter 78) loss: 0.913507 \n",
      "(iter 79) loss: 0.913307 \n",
      "(iter 80) loss: 0.913114 \n",
      "(iter 81) loss: 0.912927 \n",
      "(iter 82) loss: 0.912745 \n",
      "(iter 83) loss: 0.912569 \n",
      "(iter 84) loss: 0.912398 \n",
      "(iter 85) loss: 0.912232 \n",
      "(iter 86) loss: 0.91207 \n",
      "(iter 87) loss: 0.911913 \n",
      "(iter 88) loss: 0.91176 \n",
      "(iter 89) loss: 0.91161 \n",
      "(iter 90) loss: 0.911465 \n",
      "(iter 91) loss: 0.911323 \n",
      "(iter 92) loss: 0.911185 \n",
      "(iter 93) loss: 0.911049 \n",
      "(iter 94) loss: 0.910917 \n",
      "(iter 95) loss: 0.910788 \n",
      "(iter 96) loss: 0.910662 \n",
      "(iter 97) loss: 0.910539 \n",
      "(iter 98) loss: 0.910418 \n",
      "(iter 99) loss: 0.910299 \n"
     ]
    }
   ],
   "source": [
    "import matplotlib.pyplot as plt\n",
    "\n",
    "def train(iters):\n",
    "    # Initialize with LQR control lyapunov function\n",
    "    P_sqrt = torch.from_numpy(P_sqrt_lqr).requires_grad_(True)\n",
    "    P_21 = torch.from_numpy(A.T @ P_lqr @ B).requires_grad_(True)\n",
    "    q = torch.zeros((m, 1), requires_grad=True, dtype=torch.float64)\n",
    "    variables = [P_sqrt, P_21, q]\n",
    "    A_tch, B_tch, Q_tch, R_tch = map(torch.from_numpy, [A, B, Q, R])\n",
    "\n",
    "    def g(x, u):\n",
    "        return (x.t() @ Q_tch @ x + u.t() @ R_tch @ u).squeeze()\n",
    "\n",
    "    def evaluate(x0, P_sqrt, P_21, q, T):\n",
    "        x = x0\n",
    "        cost = 0.\n",
    "        for _ in range(T):\n",
    "            u, = policy(x, P_sqrt, P_21, q)\n",
    "            cost += g(x, u) / T\n",
    "            x = A_tch @ x + B_tch @ u + .2 * torch.randn(n, 1).double()\n",
    "        return cost\n",
    "\n",
    "    def eval_loss(N=8, T=25):\n",
    "        return sum([evaluate(torch.zeros(n, 1).double(), P_sqrt, P_21, q, T=T)\n",
    "                    for _ in range(N)]) / N\n",
    "\n",
    "    results = []\n",
    "    optimizer = torch.optim.SGD(variables, lr=.02, momentum=.9)\n",
    "    for i in range(iters):\n",
    "        # use same seeds each iteration to get pretty training plot\n",
    "        torch.manual_seed(1)\n",
    "        np.random.seed(1)\n",
    "        optimizer.zero_grad()\n",
    "        loss = eval_loss()\n",
    "        loss.backward()\n",
    "        optimizer.step()\n",
    "        results.append(loss.item())\n",
    "        print(\"(iter %d) loss: %g \" % (i, results[-1]))\n",
    "    return results\n",
    "\n",
    "\n",
    "results = train(iters=100)"
   ]
  },
  {
   "cell_type": "code",
   "execution_count": 30,
   "metadata": {},
   "outputs": [
    {
     "data": {
      "text/plain": [
       "'1.2.0'"
      ]
     },
     "execution_count": 30,
     "metadata": {},
     "output_type": "execute_result"
    }
   ],
   "source": [
    "torch.__version__"
   ]
  },
  {
   "cell_type": "code",
   "execution_count": 31,
   "metadata": {},
   "outputs": [
    {
     "data": {
      "image/png": "[encoded data removed]",
      "text/plain": [
       "<Figure size 432x288 with 1 Axes>"
      ]
     },
     "metadata": {
      "needs_background": "light"
     },
     "output_type": "display_data"
    }
   ],
   "source": [
    "plt.figure()\n",
    "plt.plot(results)\n",
    "plt.xlabel('iteration')\n",
    "plt.ylabel('average cost')\n",
    "plt.savefig(\"adp.pdf\")\n",
    "plt.show()"
   ]
  },
  {
   "cell_type": "code",
   "execution_count": null,
   "metadata": {},
   "outputs": [],
   "source": []
  }
 ],
 "metadata": {
  "kernelspec": {
   "display_name": "Python 3",
   "language": "python",
   "name": "python3"
  },
  "language_info": {
   "codemirror_mode": {
    "name": "ipython",
    "version": 3
   },
   "file_extension": ".py",
   "mimetype": "text/x-python",
   "name": "python",
   "nbconvert_exporter": "python",
   "pygments_lexer": "ipython3",
   "version": "3.6.9"
  },
  "latex_envs": {
   "LaTeX_envs_menu_present": true,
   "autoclose": true,
   "autocomplete": true,
   "bibliofile": "biblio.bib",
   "cite_by": "apalike",
   "current_citInitial": 1,
   "eqLabelWithNumbers": true,
   "eqNumInitial": 1,
   "hotkeys": {
    "equation": "Ctrl-E",
    "itemize": "Ctrl-I"
   },
   "labels_anchors": false,
   "latex_user_defs": false,
   "report_style_numbering": false,
   "user_envs_cfg": false
  }
 },
 "nbformat": 4,
 "nbformat_minor": 2
}
